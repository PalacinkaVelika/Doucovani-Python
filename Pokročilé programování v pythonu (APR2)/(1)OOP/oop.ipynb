{
 "cells": [
  {
   "cell_type": "markdown",
   "metadata": {},
   "source": [
    "# Klasické programování vs. objektově orientované\n",
    "## Klasické programování:\n",
    "- Důraz na procedury nebo funkce. Kód je organizován kolem funkcí, které pracují s daty.\n",
    "- Data a funkce nejsou automaticky propojeny. Data jsou obvykle strukturována pomocí primitivních datových typů jako jsou celá čísla, desetinná čísla a pole, a funkce pracují s těmito daty.\n",
    "- Opakovatelnost kódu na nic, protože funkce jsou obvykle navrženy pro konkrétní úkoly.\n",
    "\n",
    "## Objektově orientované programování (OOP):\n",
    "- OOP se točí kolem objektů, které jsou instancemi tříd. \n",
    "- Třídy zapouzdřují data (atributy/vlastnosti) a chování (metody) do jednotné jednotky.\n",
    "- Protože objekty(třídy) nahrazují reálné objekty, může být kod znovu použitelný pro nový účel.\n",
    "- OOP podporuje koncepty jako je dědičnost (kde třídy mohou dědit atributy a chování z jiných tříd) a polymorfismus (kde objekty různých tříd mohou být zacházeny jako objekty společného nadřazeného typu).\n",
    "- OOP dělá čitelnější kod, se kterým je snažší práce "
   ]
  }
 ],
 "metadata": {
  "language_info": {
   "name": "python"
  }
 },
 "nbformat": 4,
 "nbformat_minor": 2
}
